{
 "cells": [
  {
   "cell_type": "markdown",
   "id": "616dea5e-be77-4f25-be78-19defc2704f2",
   "metadata": {},
   "source": [
    "# Discrete Mathematics"
   ]
  },
  {
   "cell_type": "markdown",
   "id": "83e3fc9c-e16e-42c0-9e71-fa07cbe60a85",
   "metadata": {
    "tags": []
   },
   "source": [
    "## Chatper 1"
   ]
  },
  {
   "cell_type": "markdown",
   "id": "a5a35c72-2302-4529-8203-e00631352809",
   "metadata": {
    "tags": []
   },
   "source": [
    "### Note"
   ]
  },
  {
   "cell_type": "markdown",
   "id": "7235f8cc-5c9b-4d3e-b86d-1216cd18aa14",
   "metadata": {},
   "source": [
    "**Variable**\n",
    "1. Variable is a placeholder for 1) what you do not know, 2) any number in a set you are interested.\n",
    "2. Given variable, you can perform concrete computations with it."
   ]
  },
  {
   "cell_type": "markdown",
   "id": "77eee24e-0418-4a1a-b0f9-03d2dcf87468",
   "metadata": {},
   "source": [
    "**Statements**\n",
    "1. Universal statement: The statement is always true.\n",
    "2. Conditional statement: Only under some conditions, the statement is true.\n",
    "3. Existential statement: at least one thing is true in the set."
   ]
  }
 ],
 "metadata": {
  "kernelspec": {
   "display_name": "Python [conda env:d2l]",
   "language": "python",
   "name": "conda-env-d2l-py"
  },
  "language_info": {
   "codemirror_mode": {
    "name": "ipython",
    "version": 3
   },
   "file_extension": ".py",
   "mimetype": "text/x-python",
   "name": "python",
   "nbconvert_exporter": "python",
   "pygments_lexer": "ipython3",
   "version": "3.8.13"
  }
 },
 "nbformat": 4,
 "nbformat_minor": 5
}

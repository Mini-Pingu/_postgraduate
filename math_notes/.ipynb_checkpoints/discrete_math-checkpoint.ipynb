{
 "cells": [
  {
   "cell_type": "markdown",
   "id": "616dea5e-be77-4f25-be78-19defc2704f2",
   "metadata": {},
   "source": [
    "# Starting"
   ]
  },
  {
   "cell_type": "markdown",
   "id": "83e3fc9c-e16e-42c0-9e71-fa07cbe60a85",
   "metadata": {},
   "source": [
    "$$\n",
    "m \\in R\n",
    "$$"
   ]
  }
 ],
 "metadata": {
  "kernelspec": {
   "display_name": "Python [conda env:d2l]",
   "language": "python",
   "name": "conda-env-d2l-py"
  },
  "language_info": {
   "codemirror_mode": {
    "name": "ipython",
    "version": 3
   },
   "file_extension": ".py",
   "mimetype": "text/x-python",
   "name": "python",
   "nbconvert_exporter": "python",
   "pygments_lexer": "ipython3",
   "version": "3.8.13"
  }
 },
 "nbformat": 4,
 "nbformat_minor": 5
}

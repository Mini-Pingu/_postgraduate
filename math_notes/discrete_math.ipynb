{
 "cells": [
  {
   "cell_type": "markdown",
   "id": "616dea5e-be77-4f25-be78-19defc2704f2",
   "metadata": {},
   "source": [
    "# Discrete Mathematics"
   ]
  },
  {
   "cell_type": "markdown",
   "id": "83e3fc9c-e16e-42c0-9e71-fa07cbe60a85",
   "metadata": {
    "tags": []
   },
   "source": [
    "## Chatper 1"
   ]
  },
  {
   "cell_type": "markdown",
   "id": "a5a35c72-2302-4529-8203-e00631352809",
   "metadata": {
    "tags": []
   },
   "source": [
    "### Note"
   ]
  },
  {
   "cell_type": "markdown",
   "id": "7235f8cc-5c9b-4d3e-b86d-1216cd18aa14",
   "metadata": {},
   "source": [
    "**Variable**\n",
    "1. Variable is a placeholder for 1) what you do not know, 2) any number in a set you are interested.\n",
    "2. Given variable, you can perform concrete computations with it."
   ]
  },
  {
   "cell_type": "markdown",
   "id": "77eee24e-0418-4a1a-b0f9-03d2dcf87468",
   "metadata": {},
   "source": [
    "**Statements**\n",
    "1. Universal statement: All elements in the set is always true.\n",
    "2. Conditional statement: Only under some conditions, the statement is true.\n",
    "3. Existential statement: at least one thing is true in the set.\n",
    "\n",
    "**Combination of statements**\n",
    "1. Universal conditional statements: \n",
    "<br /><br />\n",
    "$$ \n",
    "\\text{For all animals } a \\text{, if } a \\text{ is a dog, then } a \\text{ is a mammal.}\n",
    "$$\n",
    "<br />\n",
    "It can be transformed to purely universal statements, or conditonal statement:\n",
    "<br /><br />\n",
    "$$\n",
    "\\text{If } a \\text{ is a dog, then } a \\text{ is a mammal}\n",
    "$$\n",
    "$$\n",
    "\\text{For all dogs } a \\text{, a is a mammal.}\n",
    "$$"
   ]
  },
  {
   "cell_type": "code",
   "execution_count": null,
   "id": "317f91c1-791c-4419-9ade-e4c3d988ca3f",
   "metadata": {},
   "outputs": [],
   "source": []
  }
 ],
 "metadata": {
  "kernelspec": {
   "display_name": "Python [conda env:d2l]",
   "language": "python",
   "name": "conda-env-d2l-py"
  },
  "language_info": {
   "codemirror_mode": {
    "name": "ipython",
    "version": 3
   },
   "file_extension": ".py",
   "mimetype": "text/x-python",
   "name": "python",
   "nbconvert_exporter": "python",
   "pygments_lexer": "ipython3",
   "version": "3.8.13"
  }
 },
 "nbformat": 4,
 "nbformat_minor": 5
}
